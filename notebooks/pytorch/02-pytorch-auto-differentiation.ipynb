{
 "cells": [
  {
   "cell_type": "markdown",
   "metadata": {},
   "source": [
    "# Automatic Differentiation in PyTorch"
   ]
  },
  {
   "cell_type": "markdown",
   "metadata": {},
   "source": [
    "goals:\n",
    "- explore how automatic differentiation works in pytorch\n",
    "- train a linear regression\n",
    "- train a neural network\n",
    "- leverage an optimizer\n",
    "- define an optimizer"
   ]
  }
 ],
 "metadata": {
  "language_info": {
   "name": "python"
  }
 },
 "nbformat": 4,
 "nbformat_minor": 2
}
