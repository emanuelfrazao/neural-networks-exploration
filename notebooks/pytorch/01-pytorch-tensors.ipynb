{
 "cells": [
  {
   "cell_type": "markdown",
   "metadata": {},
   "source": [
    "# pytorch tensors"
   ]
  },
  {
   "cell_type": "markdown",
   "metadata": {
    "vscode": {
     "languageId": "plaintext"
    }
   },
   "source": [
    "## goals"
   ]
  },
  {
   "cell_type": "markdown",
   "metadata": {},
   "source": [
    "- different types of tensors in pytorch, and their properties\n",
    "- creating tensors\n",
    "- operations on tensors\n",
    "- indexing, slicing, reshaping, joining, mutating"
   ]
  },
  {
   "cell_type": "markdown",
   "metadata": {},
   "source": [
    "## Tensor data-type"
   ]
  },
  {
   "cell_type": "markdown",
   "metadata": {},
   "source": [
    "### creating tensors"
   ]
  },
  {
   "cell_type": "code",
   "execution_count": 8,
   "metadata": {},
   "outputs": [],
   "source": [
    "import torch\n",
    "import numpy as np\n",
    "import pandas as pd"
   ]
  },
  {
   "cell_type": "markdown",
   "metadata": {},
   "source": [
    "- from sequenced data-types"
   ]
  },
  {
   "cell_type": "code",
   "execution_count": 22,
   "metadata": {},
   "outputs": [
    {
     "name": "stdout",
     "output_type": "stream",
     "text": [
      "Error when calling a DataFrame directy: expected sequence of length 2 at dim 0 (got 3)\n"
     ]
    }
   ],
   "source": [
    "# One-dimensional tensors\n",
    "t1 = torch.Tensor([1, -2, 3])\n",
    "t2 = torch.Tensor(np.array([1, -2, 3]))\n",
    "t3 = torch.Tensor(pd.Series([1, -2, 3]))\n",
    "\n",
    "# Two-dimensional tensors\n",
    "t4 = torch.Tensor([[1, -2, 3], [4, 5, 6]])\n",
    "t5 = torch.Tensor(np.array([[1, -2, 3], [4, 5, 6]]))\n",
    "\n",
    "try:\n",
    "    t6 = torch.Tensor(pd.DataFrame([[1, -2, 3], [4, 5, 6]]))\n",
    "except ValueError as e:\n",
    "    print('Error when calling a DataFrame directy:', e)\n",
    "\n",
    "# Bigger-dimensional tensors\n",
    "t7 = torch.Tensor([[[1, -2, 3], [4, 5, 6]], [[7, 8, 9], [10, 11, 12]]])"
   ]
  },
  {
   "cell_type": "markdown",
   "metadata": {},
   "source": [
    "- from constants"
   ]
  },
  {
   "cell_type": "code",
   "execution_count": 29,
   "metadata": {},
   "outputs": [],
   "source": [
    "t_zeros = torch.zeros(2, 3)             \n",
    "t_ones = torch.ones(2, 3)\n",
    "t_eye = torch.eye(3)\n",
    "t_range = torch.arange(0, 3, 0.5)\n",
    "t_linspace = torch.linspace(0, 3, 6)"
   ]
  },
  {
   "cell_type": "markdown",
   "metadata": {},
   "source": [
    "- from random number generators"
   ]
  },
  {
   "cell_type": "code",
   "execution_count": 172,
   "metadata": {},
   "outputs": [],
   "source": [
    "# uniform\n",
    "t_uniform_con = torch.rand(2, 3)\n",
    "t_uniform_int = torch.randint(0, 10, (2, 3))\n",
    "\n",
    "# normal\n",
    "t_unit_normal = torch.randn(2, 3)\n",
    "t_normal_same_mean_std = torch.normal(1., 2., size=(2, 3))\n",
    "t_normal_same_mean = torch.normal(mean=3., std=torch.arange(1., 6.))\n",
    "t_normal_same_std = torch.normal(mean=torch.arange(1., 6.), std=3.)\n",
    "\n",
    "# bernoulli, binomial, categorical\n",
    "t_bernoulli = torch.bernoulli(torch.tensor([0.3, 0.6, 0.5]))\n",
    "t_binomial = torch.binomial(torch.tensor([10., 10., 10.]), torch.tensor([0.3, 0.6, 0.5]))\n",
    "t_categorical = torch.multinomial(torch.tensor([0.3, 0.6, 0.3]), 5, replacement=True)\n",
    "\n",
    "# others\n",
    "t_dirichlet = torch.distributions.dirichlet.Dirichlet(torch.tensor([0.3, 0.6, 0.3])).sample()\n",
    "t_exponential = torch.distributions.exponential.Exponential(torch.tensor([1.0, 2.0])).sample()\n",
    "t_gamma = torch.distributions.gamma.Gamma(torch.tensor([1.0, 2.0]), torch.tensor([1.0, 2.0])).sample()\n",
    "t_laplace = torch.distributions.laplace.Laplace(torch.tensor([1.0, 2.0]), torch.tensor([1.0, 2.0])).sample()\n",
    "t_multivariate_normal = torch.distributions.multivariate_normal.MultivariateNormal(torch.tensor([1.0, 2.0]), torch.eye(2)).sample()\n",
    "t_poisson = torch.distributions.poisson.Poisson(torch.tensor([1.0, 2.0])).sample()\n"
   ]
  },
  {
   "cell_type": "markdown",
   "metadata": {},
   "source": [
    "- from other tensors"
   ]
  },
  {
   "cell_type": "code",
   "execution_count": 196,
   "metadata": {},
   "outputs": [],
   "source": [
    "t1 = torch.Tensor([1, -2, 3])\n",
    "t2 = torch.Tensor([[1, -2, 3], [4, 5, 6]])\n",
    "\n",
    "# contants of same shape\n",
    "t_zeros = torch.zeros_like(t1)\n",
    "t_ones = torch.ones_like(t1)\n",
    "t_rand = torch.rand_like(t1)\n",
    "\n",
    "# dual matrices\n",
    "t_transposed = t1.t()\n",
    "t_diag = t1.diag()\n",
    "t_inverse = t_diag.inverse()\n",
    "\n",
    "# "
   ]
  },
  {
   "cell_type": "markdown",
   "metadata": {},
   "source": [
    "- from reshaping"
   ]
  },
  {
   "cell_type": "markdown",
   "metadata": {},
   "source": [
    "- from slicing"
   ]
  },
  {
   "cell_type": "markdown",
   "metadata": {},
   "source": [
    "- from composing"
   ]
  },
  {
   "cell_type": "markdown",
   "metadata": {},
   "source": [
    "### data-types of numbers"
   ]
  },
  {
   "cell_type": "markdown",
   "metadata": {},
   "source": [
    "Available data types include:\n",
    "- `torch.bool`\n",
    "- `torch.int8`\n",
    "- `torch.uint8`\n",
    "- `torch.int16`\n",
    "- `torch.int32`\n",
    "- `torch.int64`\n",
    "- `torch.half`\n",
    "- `torch.float`\n",
    "- `torch.double`\n",
    "- `torch.bfloat`"
   ]
  },
  {
   "cell_type": "markdown",
   "metadata": {},
   "source": [
    "## Operations on tensors"
   ]
  },
  {
   "cell_type": "markdown",
   "metadata": {},
   "source": [
    "### basic operations"
   ]
  },
  {
   "cell_type": "markdown",
   "metadata": {},
   "source": [
    "- tensors and numbers"
   ]
  },
  {
   "cell_type": "code",
   "execution_count": 180,
   "metadata": {},
   "outputs": [
    {
     "data": {
      "text/plain": [
       "(tensor([-2., -5.,  0.]),\n",
       " tensor([ 3., -6.,  9.]),\n",
       " tensor([ 0.3333, -0.6667,  1.0000]),\n",
       " tensor([ 1., -8., 27.]))"
      ]
     },
     "execution_count": 180,
     "metadata": {},
     "output_type": "execute_result"
    }
   ],
   "source": [
    "t1 - 3, t1 * 3, t1 / 3, t1 ** 3"
   ]
  },
  {
   "cell_type": "code",
   "execution_count": 181,
   "metadata": {},
   "outputs": [
    {
     "data": {
      "text/plain": [
       "(tensor([-2., -5.,  0.]),\n",
       " tensor([ 3., -6.,  9.]),\n",
       " tensor([ 0.3333, -0.6667,  1.0000]),\n",
       " tensor([ 1., -8., 27.]))"
      ]
     },
     "execution_count": 181,
     "metadata": {},
     "output_type": "execute_result"
    }
   ],
   "source": [
    "t1.sub(3), t1.mul(3), t1.div(3), t1.pow(3)"
   ]
  },
  {
   "cell_type": "markdown",
   "metadata": {},
   "source": [
    "- between tensors of same shape"
   ]
  },
  {
   "cell_type": "code",
   "execution_count": 182,
   "metadata": {},
   "outputs": [
    {
     "data": {
      "text/plain": [
       "(tensor([-3., -7., -3.]),\n",
       " tensor([  4., -10.,  18.]),\n",
       " tensor([ 0.2500, -0.4000,  0.5000]),\n",
       " tensor([  1., -32., 729.]))"
      ]
     },
     "execution_count": 182,
     "metadata": {},
     "output_type": "execute_result"
    }
   ],
   "source": [
    "t1 - t2, t1 * t2, t1 / t2, t1 ** t2\n",
    "\n",
    "t1.sub(t2), t1.mul(t2), t1.div(t2), t1.pow(t2)"
   ]
  },
  {
   "cell_type": "markdown",
   "metadata": {},
   "source": [
    "- between 2-dimensional tensors"
   ]
  },
  {
   "cell_type": "code",
   "execution_count": 197,
   "metadata": {},
   "outputs": [
    {
     "data": {
      "text/plain": [
       "tensor([[14., 32.],\n",
       "        [32., 77.]])"
      ]
     },
     "execution_count": 197,
     "metadata": {},
     "output_type": "execute_result"
    }
   ],
   "source": [
    "t3 = torch.Tensor([[1, 2, 3], [4, 5, 6]])\n",
    "\n",
    "t3 @ t3.T"
   ]
  },
  {
   "cell_type": "markdown",
   "metadata": {},
   "source": [
    "- between tensors of different shapes (broadcasting)"
   ]
  },
  {
   "cell_type": "code",
   "execution_count": 201,
   "metadata": {},
   "outputs": [
    {
     "data": {
      "text/plain": [
       "(tensor([[ 0.,  0.,  0.],\n",
       "         [-3., -7., -3.]]),\n",
       " tensor([[  1.,   4.,   9.],\n",
       "         [  4., -10.,  18.]]),\n",
       " tensor([[ 1.0000,  1.0000,  1.0000],\n",
       "         [ 0.2500, -0.4000,  0.5000]]),\n",
       " tensor([[ 1.0000e+00,  2.5000e-01,  2.7000e+01],\n",
       "         [ 1.0000e+00, -3.2000e+01,  7.2900e+02]]))"
      ]
     },
     "execution_count": 201,
     "metadata": {},
     "output_type": "execute_result"
    }
   ],
   "source": [
    "t1 = torch.Tensor([1, -2, 3])\n",
    "t2 = torch.Tensor([[1, -2, 3], [4, 5, 6]])\n",
    "\n",
    "t1 - t2, t1 * t2, t1 / t2, t1 ** t2"
   ]
  }
 ],
 "metadata": {
  "kernelspec": {
   "display_name": "anexp",
   "language": "python",
   "name": "python3"
  },
  "language_info": {
   "codemirror_mode": {
    "name": "ipython",
    "version": 3
   },
   "file_extension": ".py",
   "mimetype": "text/x-python",
   "name": "python",
   "nbconvert_exporter": "python",
   "pygments_lexer": "ipython3",
   "version": "3.11.6"
  }
 },
 "nbformat": 4,
 "nbformat_minor": 2
}
